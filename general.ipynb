{
 "cells": [
  {
   "cell_type": "code",
   "execution_count": 15,
   "metadata": {},
   "outputs": [],
   "source": [
    "import pandas as pd"
   ]
  },
  {
   "cell_type": "markdown",
   "metadata": {},
   "source": [
    "## List Accumulation"
   ]
  },
  {
   "cell_type": "code",
   "execution_count": 2,
   "metadata": {},
   "outputs": [],
   "source": [
    "def accumulate (Set) -> list:\n",
    "   \"\"\"_summary_\n",
    "            Running Total Accumulation \n",
    "            of List of numbers\n",
    "\n",
    "      >>> Set = [2, 3,  7, 12, 14, 16, 2]\n",
    "      >>> accumulate(Set)\n",
    "                [2, 5, 12, 24, 38, 54, 56]\n",
    "   ---------------------------------------\n",
    "   \"\"\"\n",
    "   accum = [0]\n",
    "   for x in Set:\n",
    "      new = accum[-1] + x\n",
    "      accum.append(new)\n",
    "   return accum[1:]"
   ]
  },
  {
   "cell_type": "code",
   "execution_count": 4,
   "metadata": {},
   "outputs": [
    {
     "name": "stdout",
     "output_type": "stream",
     "text": [
      "[13, 122, 88, 94, 33, 202, 23] -->\n"
     ]
    },
    {
     "data": {
      "text/plain": [
       "[13, 135, 223, 317, 350, 552, 575]"
      ]
     },
     "execution_count": 4,
     "metadata": {},
     "output_type": "execute_result"
    }
   ],
   "source": [
    "def test_accumulate_1 ():\n",
    "   SET = [13, 122, 88, 94, 33, 202, 23]\n",
    "   x = accumulate(SET)\n",
    "   \n",
    "   print(SET, \"-->\")\n",
    "   return x\n",
    "\n",
    "test_accumulate_1()"
   ]
  },
  {
   "cell_type": "markdown",
   "metadata": {},
   "source": [
    "## Sliding Window List Averaging"
   ]
  },
  {
   "cell_type": "code",
   "execution_count": 13,
   "metadata": {},
   "outputs": [],
   "source": [
    "def list_window (Set, window:int) :\n",
    "   windowlist = []\n",
    "   for i in range(0, len(Set) - window):\n",
    "      windowAvg = round (sum (Set[i: i+window]) / window ,2 )\n",
    "      windowlist.append(windowAvg)\n",
    "      \n",
    "   return windowlist"
   ]
  },
  {
   "cell_type": "code",
   "execution_count": 19,
   "metadata": {},
   "outputs": [
    {
     "name": "stdout",
     "output_type": "stream",
     "text": [
      "SLIDING WINDOW AVERAGE:\n",
      "SET:  [1031, 993, 944, 1008, 732, 730, 654, 332]\n"
     ]
    },
    {
     "data": {
      "text/html": [
       "<div>\n",
       "<style scoped>\n",
       "    .dataframe tbody tr th:only-of-type {\n",
       "        vertical-align: middle;\n",
       "    }\n",
       "\n",
       "    .dataframe tbody tr th {\n",
       "        vertical-align: top;\n",
       "    }\n",
       "\n",
       "    .dataframe thead th {\n",
       "        text-align: right;\n",
       "    }\n",
       "</style>\n",
       "<table border=\"1\" class=\"dataframe\">\n",
       "  <thead>\n",
       "    <tr style=\"text-align: right;\">\n",
       "      <th></th>\n",
       "      <th>0</th>\n",
       "      <th>1</th>\n",
       "      <th>2</th>\n",
       "      <th>3</th>\n",
       "      <th>4</th>\n",
       "      <th>5</th>\n",
       "      <th>6</th>\n",
       "      <th>7</th>\n",
       "    </tr>\n",
       "  </thead>\n",
       "  <tbody>\n",
       "    <tr>\n",
       "      <th>RAW LIST</th>\n",
       "      <td>1031.00</td>\n",
       "      <td>993.00</td>\n",
       "      <td>944.00</td>\n",
       "      <td>1008.00</td>\n",
       "      <td>732.00</td>\n",
       "      <td>730.0</td>\n",
       "      <td>654.0</td>\n",
       "      <td>332.0</td>\n",
       "    </tr>\n",
       "    <tr>\n",
       "      <th>WINDOW AVG F(X)</th>\n",
       "      <td>989.33</td>\n",
       "      <td>981.67</td>\n",
       "      <td>894.67</td>\n",
       "      <td>823.33</td>\n",
       "      <td>705.33</td>\n",
       "      <td>NaN</td>\n",
       "      <td>NaN</td>\n",
       "      <td>NaN</td>\n",
       "    </tr>\n",
       "  </tbody>\n",
       "</table>\n",
       "</div>"
      ],
      "text/plain": [
       "                       0       1       2        3       4      5      6      7\n",
       "RAW LIST         1031.00  993.00  944.00  1008.00  732.00  730.0  654.0  332.0\n",
       "WINDOW AVG F(X)   989.33  981.67  894.67   823.33  705.33    NaN    NaN    NaN"
      ]
     },
     "execution_count": 19,
     "metadata": {},
     "output_type": "execute_result"
    }
   ],
   "source": [
    "def test_list_window ():\n",
    "   SET = [1031, 993, 944, 1008, 732, 730, 654, 332]\n",
    "   WINDOW = 3\n",
    "   x = list_window(SET, WINDOW)\n",
    "   df = pd.DataFrame([SET, list(x)],index= [\"RAW LIST\", \"WINDOW AVG F(X)\"])\n",
    "   print(\"SLIDING WINDOW AVERAGE:\")\n",
    "   print(\"SET: \", SET)\n",
    "   return df\n",
    "\n",
    "test_list_window()"
   ]
  },
  {
   "cell_type": "code",
   "execution_count": null,
   "metadata": {},
   "outputs": [],
   "source": []
  }
 ],
 "metadata": {
  "interpreter": {
   "hash": "31f2aee4e71d21fbe5cf8b01ff0e069b9275f58929596ceb00d14d90e3e16cd6"
  },
  "kernelspec": {
   "display_name": "Python 3.8.2 64-bit",
   "language": "python",
   "name": "python3"
  },
  "language_info": {
   "codemirror_mode": {
    "name": "ipython",
    "version": 3
   },
   "file_extension": ".py",
   "mimetype": "text/x-python",
   "name": "python",
   "nbconvert_exporter": "python",
   "pygments_lexer": "ipython3",
   "version": "3.8.2"
  },
  "orig_nbformat": 4
 },
 "nbformat": 4,
 "nbformat_minor": 2
}
