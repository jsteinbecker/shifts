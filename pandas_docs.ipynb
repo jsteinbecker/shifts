{
 "cells": [
  {
   "cell_type": "markdown",
   "metadata": {},
   "source": [
    "# PANDAS"
   ]
  },
  {
   "cell_type": "code",
   "execution_count": 28,
   "metadata": {},
   "outputs": [],
   "source": [
    "import pandas as pd\n",
    "import yaml\n",
    "from yaml import loader, Loader"
   ]
  },
  {
   "cell_type": "code",
   "execution_count": 29,
   "metadata": {},
   "outputs": [],
   "source": [
    "empl_doc = open(\"employees.yaml\",\"r\")\n",
    "data = yaml.load(empl_doc,Loader=Loader)"
   ]
  },
  {
   "cell_type": "code",
   "execution_count": 30,
   "metadata": {},
   "outputs": [
    {
     "data": {
      "text/html": [
       "<div>\n",
       "<style scoped>\n",
       "    .dataframe tbody tr th:only-of-type {\n",
       "        vertical-align: middle;\n",
       "    }\n",
       "\n",
       "    .dataframe tbody tr th {\n",
       "        vertical-align: top;\n",
       "    }\n",
       "\n",
       "    .dataframe thead th {\n",
       "        text-align: right;\n",
       "    }\n",
       "</style>\n",
       "<table border=\"1\" class=\"dataframe\">\n",
       "  <thead>\n",
       "    <tr style=\"text-align: right;\">\n",
       "      <th></th>\n",
       "      <th>name</th>\n",
       "      <th>fte</th>\n",
       "      <th>trained_for</th>\n",
       "      <th>pref</th>\n",
       "      <th>streak_pref</th>\n",
       "    </tr>\n",
       "  </thead>\n",
       "  <tbody>\n",
       "    <tr>\n",
       "      <th>Josh</th>\n",
       "      <td>Josh</td>\n",
       "      <td>5</td>\n",
       "      <td>[MI, 7C, 7P, S]</td>\n",
       "      <td>S</td>\n",
       "      <td>3</td>\n",
       "    </tr>\n",
       "    <tr>\n",
       "      <th>Brittanie</th>\n",
       "      <td>Brittanie</td>\n",
       "      <td>8</td>\n",
       "      <td>[MI, 7C, 7P, S]</td>\n",
       "      <td>7P</td>\n",
       "      <td>8</td>\n",
       "    </tr>\n",
       "    <tr>\n",
       "      <th>Trisha</th>\n",
       "      <td>Trisha</td>\n",
       "      <td>8</td>\n",
       "      <td>[7P]</td>\n",
       "      <td>7P</td>\n",
       "      <td>5</td>\n",
       "    </tr>\n",
       "    <tr>\n",
       "      <th>Brianna</th>\n",
       "      <td>Brianna</td>\n",
       "      <td>8</td>\n",
       "      <td>[7P, S]</td>\n",
       "      <td>7P</td>\n",
       "      <td>4</td>\n",
       "    </tr>\n",
       "  </tbody>\n",
       "</table>\n",
       "</div>"
      ],
      "text/plain": [
       "                name fte      trained_for pref streak_pref\n",
       "Josh            Josh   5  [MI, 7C, 7P, S]    S           3\n",
       "Brittanie  Brittanie   8  [MI, 7C, 7P, S]   7P           8\n",
       "Trisha        Trisha   8             [7P]   7P           5\n",
       "Brianna      Brianna   8          [7P, S]   7P           4"
      ]
     },
     "execution_count": 30,
     "metadata": {},
     "output_type": "execute_result"
    }
   ],
   "source": [
    "df = pd.DataFrame(data).T\n",
    "df"
   ]
  },
  {
   "cell_type": "code",
   "execution_count": 31,
   "metadata": {},
   "outputs": [],
   "source": [
    "out = []\n",
    "for tf in df.trained_for:\n",
    "   for shift in tf:\n",
    "      if shift not in out:\n",
    "         out.append(shift)\n",
    "uniqueShifts = out"
   ]
  },
  {
   "cell_type": "code",
   "execution_count": 32,
   "metadata": {},
   "outputs": [
    {
     "data": {
      "text/html": [
       "<div>\n",
       "<style scoped>\n",
       "    .dataframe tbody tr th:only-of-type {\n",
       "        vertical-align: middle;\n",
       "    }\n",
       "\n",
       "    .dataframe tbody tr th {\n",
       "        vertical-align: top;\n",
       "    }\n",
       "\n",
       "    .dataframe thead th {\n",
       "        text-align: right;\n",
       "    }\n",
       "</style>\n",
       "<table border=\"1\" class=\"dataframe\">\n",
       "  <thead>\n",
       "    <tr style=\"text-align: right;\">\n",
       "      <th></th>\n",
       "      <th>name</th>\n",
       "      <th>fte</th>\n",
       "      <th>trained_for</th>\n",
       "      <th>pref</th>\n",
       "      <th>streak_pref</th>\n",
       "      <th>mi</th>\n",
       "    </tr>\n",
       "  </thead>\n",
       "  <tbody>\n",
       "    <tr>\n",
       "      <th>Josh</th>\n",
       "      <td>Josh</td>\n",
       "      <td>5</td>\n",
       "      <td>[MI, 7C, 7P, S]</td>\n",
       "      <td>S</td>\n",
       "      <td>3</td>\n",
       "      <td>True</td>\n",
       "    </tr>\n",
       "    <tr>\n",
       "      <th>Brittanie</th>\n",
       "      <td>Brittanie</td>\n",
       "      <td>8</td>\n",
       "      <td>[MI, 7C, 7P, S]</td>\n",
       "      <td>7P</td>\n",
       "      <td>8</td>\n",
       "      <td>True</td>\n",
       "    </tr>\n",
       "    <tr>\n",
       "      <th>Trisha</th>\n",
       "      <td>Trisha</td>\n",
       "      <td>8</td>\n",
       "      <td>[7P]</td>\n",
       "      <td>7P</td>\n",
       "      <td>5</td>\n",
       "      <td>False</td>\n",
       "    </tr>\n",
       "    <tr>\n",
       "      <th>Brianna</th>\n",
       "      <td>Brianna</td>\n",
       "      <td>8</td>\n",
       "      <td>[7P, S]</td>\n",
       "      <td>7P</td>\n",
       "      <td>4</td>\n",
       "      <td>False</td>\n",
       "    </tr>\n",
       "  </tbody>\n",
       "</table>\n",
       "</div>"
      ],
      "text/plain": [
       "                name fte      trained_for pref streak_pref     mi\n",
       "Josh            Josh   5  [MI, 7C, 7P, S]    S           3   True\n",
       "Brittanie  Brittanie   8  [MI, 7C, 7P, S]   7P           8   True\n",
       "Trisha        Trisha   8             [7P]   7P           5  False\n",
       "Brianna      Brianna   8          [7P, S]   7P           4  False"
      ]
     },
     "execution_count": 32,
     "metadata": {},
     "output_type": "execute_result"
    }
   ],
   "source": [
    "mi = [\"MI\" in df['trained_for'][x] for x in range(len(df['trained_for']))]\n",
    "df['mi'] = mi\n",
    "df"
   ]
  },
  {
   "cell_type": "code",
   "execution_count": 64,
   "metadata": {},
   "outputs": [],
   "source": [
    "def empl_trained_for (empl:str,shift:str) -> bool:\n",
    "   \"\"\"CHECKS IF EMPLOYEE IS TRAINED FOR SHIFT\n",
    "\n",
    "   Args:\n",
    "       empl (str): employee id by name\n",
    "       shift (str): shift id by name\n",
    "   Returns:\n",
    "       >>> bool: True if employee can work shift\n",
    "             False if employee cannot\n",
    "   \"\"\"\n",
    "   a = shift in df.loc[empl]['trained_for']\n",
    "   return a\n"
   ]
  },
  {
   "cell_type": "code",
   "execution_count": 65,
   "metadata": {},
   "outputs": [
    {
     "data": {
      "text/plain": [
       "True"
      ]
     },
     "execution_count": 65,
     "metadata": {},
     "output_type": "execute_result"
    }
   ],
   "source": [
    "empl_trained_for (\"Josh\", \"EI\")\n",
    "empl_trained_for (\"Josh\", \"S\")"
   ]
  },
  {
   "cell_type": "markdown",
   "metadata": {},
   "source": [
    "# DATETIME"
   ]
  },
  {
   "cell_type": "code",
   "execution_count": 35,
   "metadata": {},
   "outputs": [],
   "source": [
    "import datetime as dt\n",
    "import timedelta"
   ]
  },
  {
   "cell_type": "code",
   "execution_count": 36,
   "metadata": {},
   "outputs": [
    {
     "data": {
      "text/plain": [
       "datetime.date(2022, 6, 15)"
      ]
     },
     "execution_count": 36,
     "metadata": {},
     "output_type": "execute_result"
    }
   ],
   "source": [
    "d1 = dt.date(2022,3,8)\n",
    "days = [d1 + dt.timedelta(days=x) for x in range(100)]\n",
    "max(days)"
   ]
  },
  {
   "cell_type": "code",
   "execution_count": 37,
   "metadata": {},
   "outputs": [
    {
     "data": {
      "text/plain": [
       "['Josh', 'Brittanie', 'Trisha', 'Brianna']"
      ]
     },
     "execution_count": 37,
     "metadata": {},
     "output_type": "execute_result"
    }
   ],
   "source": [
    "empl_list = list(data.keys())\n",
    "empl_list"
   ]
  },
  {
   "cell_type": "code",
   "execution_count": 38,
   "metadata": {},
   "outputs": [
    {
     "data": {
      "text/html": [
       "<div>\n",
       "<style scoped>\n",
       "    .dataframe tbody tr th:only-of-type {\n",
       "        vertical-align: middle;\n",
       "    }\n",
       "\n",
       "    .dataframe tbody tr th {\n",
       "        vertical-align: top;\n",
       "    }\n",
       "\n",
       "    .dataframe thead th {\n",
       "        text-align: right;\n",
       "    }\n",
       "</style>\n",
       "<table border=\"1\" class=\"dataframe\">\n",
       "  <thead>\n",
       "    <tr style=\"text-align: right;\">\n",
       "      <th></th>\n",
       "      <th>2022-03-08</th>\n",
       "      <th>2022-03-09</th>\n",
       "      <th>2022-03-10</th>\n",
       "      <th>2022-03-11</th>\n",
       "      <th>2022-03-12</th>\n",
       "      <th>2022-03-13</th>\n",
       "      <th>2022-03-14</th>\n",
       "      <th>2022-03-15</th>\n",
       "      <th>2022-03-16</th>\n",
       "      <th>2022-03-17</th>\n",
       "      <th>...</th>\n",
       "      <th>2022-06-06</th>\n",
       "      <th>2022-06-07</th>\n",
       "      <th>2022-06-08</th>\n",
       "      <th>2022-06-09</th>\n",
       "      <th>2022-06-10</th>\n",
       "      <th>2022-06-11</th>\n",
       "      <th>2022-06-12</th>\n",
       "      <th>2022-06-13</th>\n",
       "      <th>2022-06-14</th>\n",
       "      <th>2022-06-15</th>\n",
       "    </tr>\n",
       "  </thead>\n",
       "  <tbody>\n",
       "    <tr>\n",
       "      <th>Josh</th>\n",
       "      <td>NaN</td>\n",
       "      <td>NaN</td>\n",
       "      <td>NaN</td>\n",
       "      <td>NaN</td>\n",
       "      <td>NaN</td>\n",
       "      <td>NaN</td>\n",
       "      <td>NaN</td>\n",
       "      <td>NaN</td>\n",
       "      <td>NaN</td>\n",
       "      <td>NaN</td>\n",
       "      <td>...</td>\n",
       "      <td>NaN</td>\n",
       "      <td>NaN</td>\n",
       "      <td>NaN</td>\n",
       "      <td>NaN</td>\n",
       "      <td>NaN</td>\n",
       "      <td>NaN</td>\n",
       "      <td>NaN</td>\n",
       "      <td>NaN</td>\n",
       "      <td>NaN</td>\n",
       "      <td>NaN</td>\n",
       "    </tr>\n",
       "    <tr>\n",
       "      <th>Brittanie</th>\n",
       "      <td>NaN</td>\n",
       "      <td>NaN</td>\n",
       "      <td>NaN</td>\n",
       "      <td>NaN</td>\n",
       "      <td>NaN</td>\n",
       "      <td>NaN</td>\n",
       "      <td>NaN</td>\n",
       "      <td>NaN</td>\n",
       "      <td>NaN</td>\n",
       "      <td>NaN</td>\n",
       "      <td>...</td>\n",
       "      <td>NaN</td>\n",
       "      <td>NaN</td>\n",
       "      <td>NaN</td>\n",
       "      <td>NaN</td>\n",
       "      <td>NaN</td>\n",
       "      <td>NaN</td>\n",
       "      <td>NaN</td>\n",
       "      <td>NaN</td>\n",
       "      <td>NaN</td>\n",
       "      <td>NaN</td>\n",
       "    </tr>\n",
       "    <tr>\n",
       "      <th>Trisha</th>\n",
       "      <td>NaN</td>\n",
       "      <td>NaN</td>\n",
       "      <td>NaN</td>\n",
       "      <td>NaN</td>\n",
       "      <td>NaN</td>\n",
       "      <td>NaN</td>\n",
       "      <td>NaN</td>\n",
       "      <td>NaN</td>\n",
       "      <td>NaN</td>\n",
       "      <td>NaN</td>\n",
       "      <td>...</td>\n",
       "      <td>NaN</td>\n",
       "      <td>NaN</td>\n",
       "      <td>NaN</td>\n",
       "      <td>NaN</td>\n",
       "      <td>NaN</td>\n",
       "      <td>NaN</td>\n",
       "      <td>NaN</td>\n",
       "      <td>NaN</td>\n",
       "      <td>NaN</td>\n",
       "      <td>NaN</td>\n",
       "    </tr>\n",
       "    <tr>\n",
       "      <th>Brianna</th>\n",
       "      <td>NaN</td>\n",
       "      <td>NaN</td>\n",
       "      <td>NaN</td>\n",
       "      <td>NaN</td>\n",
       "      <td>NaN</td>\n",
       "      <td>NaN</td>\n",
       "      <td>NaN</td>\n",
       "      <td>NaN</td>\n",
       "      <td>NaN</td>\n",
       "      <td>NaN</td>\n",
       "      <td>...</td>\n",
       "      <td>NaN</td>\n",
       "      <td>NaN</td>\n",
       "      <td>NaN</td>\n",
       "      <td>NaN</td>\n",
       "      <td>NaN</td>\n",
       "      <td>NaN</td>\n",
       "      <td>NaN</td>\n",
       "      <td>NaN</td>\n",
       "      <td>NaN</td>\n",
       "      <td>NaN</td>\n",
       "    </tr>\n",
       "  </tbody>\n",
       "</table>\n",
       "<p>4 rows × 100 columns</p>\n",
       "</div>"
      ],
      "text/plain": [
       "          2022-03-08 2022-03-09 2022-03-10 2022-03-11 2022-03-12 2022-03-13  \\\n",
       "Josh             NaN        NaN        NaN        NaN        NaN        NaN   \n",
       "Brittanie        NaN        NaN        NaN        NaN        NaN        NaN   \n",
       "Trisha           NaN        NaN        NaN        NaN        NaN        NaN   \n",
       "Brianna          NaN        NaN        NaN        NaN        NaN        NaN   \n",
       "\n",
       "          2022-03-14 2022-03-15 2022-03-16 2022-03-17  ... 2022-06-06  \\\n",
       "Josh             NaN        NaN        NaN        NaN  ...        NaN   \n",
       "Brittanie        NaN        NaN        NaN        NaN  ...        NaN   \n",
       "Trisha           NaN        NaN        NaN        NaN  ...        NaN   \n",
       "Brianna          NaN        NaN        NaN        NaN  ...        NaN   \n",
       "\n",
       "          2022-06-07 2022-06-08 2022-06-09 2022-06-10 2022-06-11 2022-06-12  \\\n",
       "Josh             NaN        NaN        NaN        NaN        NaN        NaN   \n",
       "Brittanie        NaN        NaN        NaN        NaN        NaN        NaN   \n",
       "Trisha           NaN        NaN        NaN        NaN        NaN        NaN   \n",
       "Brianna          NaN        NaN        NaN        NaN        NaN        NaN   \n",
       "\n",
       "          2022-06-13 2022-06-14 2022-06-15  \n",
       "Josh             NaN        NaN        NaN  \n",
       "Brittanie        NaN        NaN        NaN  \n",
       "Trisha           NaN        NaN        NaN  \n",
       "Brianna          NaN        NaN        NaN  \n",
       "\n",
       "[4 rows x 100 columns]"
      ]
     },
     "execution_count": 38,
     "metadata": {},
     "output_type": "execute_result"
    }
   ],
   "source": [
    "df_sched = pd.DataFrame(columns=days,index=empl_list)\n",
    "df_sched"
   ]
  },
  {
   "cell_type": "code",
   "execution_count": 55,
   "metadata": {},
   "outputs": [
    {
     "data": {
      "text/plain": [
       "2022-03-08    1\n",
       "2022-03-09    2\n",
       "2022-03-10    3\n",
       "2022-03-11    4\n",
       "2022-03-12    5\n",
       "             ..\n",
       "2022-06-11    5\n",
       "2022-06-12    6\n",
       "2022-06-13    0\n",
       "2022-06-14    1\n",
       "2022-06-15    2\n",
       "Length: 100, dtype: int64"
      ]
     },
     "execution_count": 55,
     "metadata": {},
     "output_type": "execute_result"
    }
   ],
   "source": [
    "weekdaydata = [x.weekday() for x in df_sched.columns]\n",
    "weekdaydata = pd.Series(weekdaydata, index=list(df_sched))\n",
    "weekdaydata"
   ]
  },
  {
   "cell_type": "code",
   "execution_count": 59,
   "metadata": {},
   "outputs": [
    {
     "data": {
      "text/plain": [
       "2022-03-08     0\n",
       "2022-03-09     0\n",
       "2022-03-10     0\n",
       "2022-03-11     0\n",
       "2022-03-12     0\n",
       "              ..\n",
       "2022-06-11    13\n",
       "2022-06-12    13\n",
       "2022-06-13    14\n",
       "2022-06-14    14\n",
       "2022-06-15    14\n",
       "Length: 100, dtype: int64"
      ]
     },
     "execution_count": 59,
     "metadata": {},
     "output_type": "execute_result"
    }
   ],
   "source": [
    "count = 0\n",
    "weekno = []\n",
    "for x in weekdaydata:\n",
    "   if x == 0:\n",
    "      count +=1\n",
    "   weekno.append(count)\n",
    "weekno = pd.Series(weekno,index=list(df_sched))\n",
    "weekno"
   ]
  },
  {
   "cell_type": "code",
   "execution_count": null,
   "metadata": {},
   "outputs": [],
   "source": []
  }
 ],
 "metadata": {
  "interpreter": {
   "hash": "31f2aee4e71d21fbe5cf8b01ff0e069b9275f58929596ceb00d14d90e3e16cd6"
  },
  "kernelspec": {
   "display_name": "Python 3.8.2 64-bit",
   "language": "python",
   "name": "python3"
  },
  "language_info": {
   "codemirror_mode": {
    "name": "ipython",
    "version": 3
   },
   "file_extension": ".py",
   "mimetype": "text/x-python",
   "name": "python",
   "nbconvert_exporter": "python",
   "pygments_lexer": "ipython3",
   "version": "3.8.2"
  },
  "orig_nbformat": 4
 },
 "nbformat": 4,
 "nbformat_minor": 2
}
